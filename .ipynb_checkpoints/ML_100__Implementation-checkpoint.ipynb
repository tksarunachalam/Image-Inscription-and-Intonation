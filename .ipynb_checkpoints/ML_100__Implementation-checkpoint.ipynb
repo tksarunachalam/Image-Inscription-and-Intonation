{
 "cells": [
  {
   "cell_type": "code",
   "execution_count": null,
   "metadata": {
    "colab": {
     "base_uri": "https://localhost:8080/"
    },
    "id": "T3BU9ctT53FW",
    "outputId": "949aaed2-48df-44fd-a226-0e3a2fad3eab"
   },
   "outputs": [
    {
     "name": "stdout",
     "output_type": "stream",
     "text": [
      "Mounted at /content/drive\n"
     ]
    }
   ],
   "source": [
    "from google.colab import drive\n",
    "drive.mount('/content/drive')"
   ]
  },
  {
   "cell_type": "markdown",
   "metadata": {
    "id": "6njN10iY0LCC"
   },
   "source": [
    "### Imports"
   ]
  },
  {
   "cell_type": "code",
   "execution_count": null,
   "metadata": {
    "colab": {
     "base_uri": "https://localhost:8080/"
    },
    "id": "VvJwT1_3A-3L",
    "outputId": "f156bde9-c000-4c19-b4bf-d2238b79962d"
   },
   "outputs": [
    {
     "name": "stdout",
     "output_type": "stream",
     "text": [
      "Collecting gTTS\n",
      "  Downloading https://files.pythonhosted.org/packages/5f/b9/94e59337107be134b21ce395a29fc0715b707b560108d6797de2d93e1178/gTTS-2.2.2-py3-none-any.whl\n",
      "Requirement already satisfied: requests in /usr/local/lib/python3.7/dist-packages (from gTTS) (2.23.0)\n",
      "Requirement already satisfied: six in /usr/local/lib/python3.7/dist-packages (from gTTS) (1.15.0)\n",
      "Requirement already satisfied: click in /usr/local/lib/python3.7/dist-packages (from gTTS) (8.0.0)\n",
      "Requirement already satisfied: certifi>=2017.4.17 in /usr/local/lib/python3.7/dist-packages (from requests->gTTS) (2020.12.5)\n",
      "Requirement already satisfied: chardet<4,>=3.0.2 in /usr/local/lib/python3.7/dist-packages (from requests->gTTS) (3.0.4)\n",
      "Requirement already satisfied: idna<3,>=2.5 in /usr/local/lib/python3.7/dist-packages (from requests->gTTS) (2.10)\n",
      "Requirement already satisfied: urllib3!=1.25.0,!=1.25.1,<1.26,>=1.21.1 in /usr/local/lib/python3.7/dist-packages (from requests->gTTS) (1.24.3)\n",
      "Installing collected packages: gTTS\n",
      "Successfully installed gTTS-2.2.2\n"
     ]
    }
   ],
   "source": [
    "!pip install gTTS"
   ]
  },
  {
   "cell_type": "code",
   "execution_count": null,
   "metadata": {
    "colab": {
     "base_uri": "https://localhost:8080/"
    },
    "id": "FqPLvsUtD6Sr",
    "outputId": "96ae67a0-7a34-437a-d7f1-7536cb04eb2d"
   },
   "outputs": [
    {
     "name": "stdout",
     "output_type": "stream",
     "text": [
      "Collecting pycocoevalcap\n",
      "\u001b[?25l  Downloading https://files.pythonhosted.org/packages/08/f9/466f289f1628296b5e368940f89e3cfcfb066d15ddc02ff536dc532b1c93/pycocoevalcap-1.2-py3-none-any.whl (104.3MB)\n",
      "\u001b[K     |████████████████████████████████| 104.3MB 89kB/s \n",
      "\u001b[?25hRequirement already satisfied: pycocotools>=2.0.2 in /usr/local/lib/python3.7/dist-packages (from pycocoevalcap) (2.0.2)\n",
      "Requirement already satisfied: cython>=0.27.3 in /usr/local/lib/python3.7/dist-packages (from pycocotools>=2.0.2->pycocoevalcap) (0.29.23)\n",
      "Requirement already satisfied: matplotlib>=2.1.0 in /usr/local/lib/python3.7/dist-packages (from pycocotools>=2.0.2->pycocoevalcap) (3.2.2)\n",
      "Requirement already satisfied: setuptools>=18.0 in /usr/local/lib/python3.7/dist-packages (from pycocotools>=2.0.2->pycocoevalcap) (56.1.0)\n",
      "Requirement already satisfied: python-dateutil>=2.1 in /usr/local/lib/python3.7/dist-packages (from matplotlib>=2.1.0->pycocotools>=2.0.2->pycocoevalcap) (2.8.1)\n",
      "Requirement already satisfied: kiwisolver>=1.0.1 in /usr/local/lib/python3.7/dist-packages (from matplotlib>=2.1.0->pycocotools>=2.0.2->pycocoevalcap) (1.3.1)\n",
      "Requirement already satisfied: pyparsing!=2.0.4,!=2.1.2,!=2.1.6,>=2.0.1 in /usr/local/lib/python3.7/dist-packages (from matplotlib>=2.1.0->pycocotools>=2.0.2->pycocoevalcap) (2.4.7)\n",
      "Requirement already satisfied: cycler>=0.10 in /usr/local/lib/python3.7/dist-packages (from matplotlib>=2.1.0->pycocotools>=2.0.2->pycocoevalcap) (0.10.0)\n",
      "Requirement already satisfied: numpy>=1.11 in /usr/local/lib/python3.7/dist-packages (from matplotlib>=2.1.0->pycocotools>=2.0.2->pycocoevalcap) (1.19.5)\n",
      "Requirement already satisfied: six>=1.5 in /usr/local/lib/python3.7/dist-packages (from python-dateutil>=2.1->matplotlib>=2.1.0->pycocotools>=2.0.2->pycocoevalcap) (1.15.0)\n",
      "Installing collected packages: pycocoevalcap\n",
      "Successfully installed pycocoevalcap-1.2\n"
     ]
    }
   ],
   "source": [
    "!pip install pycocoevalcap"
   ]
  },
  {
   "cell_type": "code",
   "execution_count": null,
   "metadata": {
    "id": "vIT8Qmyw3TpI"
   },
   "outputs": [],
   "source": [
    "%matplotlib inline\n",
    "import matplotlib.pyplot as plt\n",
    "import tensorflow as tf\n",
    "import numpy as np\n",
    "import sys\n",
    "import requests\n",
    "import urllib.request\n",
    "import tarfile\n",
    "import zipfile\n",
    "import json\n",
    "import os\n",
    "import pickle\n",
    "import numpy as np\n",
    "from PIL import Image\n",
    "from pycocotools.coco import COCO\n",
    "import skimage.io as io\n",
    "import pylab\n",
    "from gtts import gTTS \n",
    "import IPython\n",
    "import os \n",
    "from pycocoevalcap.eval import COCOEvalCap\n",
    "from pycocotools.coco import COCO\n",
    "from tensorflow.keras import backend as K\n",
    "from tensorflow.keras.models import Model\n",
    "from tensorflow.keras.optimizers import RMSprop\n",
    "from tensorflow.keras.applications import VGG16\n",
    "from tensorflow.keras.preprocessing.text import Tokenizer\n",
    "from tensorflow.keras.preprocessing.sequence import pad_sequences\n",
    "from tensorflow.keras.callbacks import ModelCheckpoint, TensorBoard\n",
    "from tensorflow.keras.layers import Input, Dense, Embedding, GRU, LSTM"
   ]
  },
  {
   "cell_type": "markdown",
   "metadata": {
    "id": "otASMXJI0PW8"
   },
   "source": [
    "### Preprocessing"
   ]
  },
  {
   "cell_type": "code",
   "execution_count": null,
   "metadata": {
    "id": "gMcBJiN25Ocd"
   },
   "outputs": [],
   "source": [
    "data_dir = \"/content/drive/MyDrive/data/lstm_gru\"\n",
    "train_dir = \"/content/drive/MyDrive/data/coco/train2014\"\n",
    "val_dir = \"/content/drive/MyDrive/data/coco/val2014\"\n",
    "data_url = \"http://images.cocodataset.org/\""
   ]
  },
  {
   "cell_type": "code",
   "execution_count": null,
   "metadata": {
    "id": "xGmxIe_-NtFb"
   },
   "outputs": [],
   "source": [
    "def cache(cache_path, fn, *args, **kwargs):\n",
    "    if os.path.exists(cache_path):\n",
    "        with open(cache_path, mode='rb') as file:\n",
    "            obj = pickle.load(file)\n",
    "        print(\"Data loaded from cache-file: \" + cache_path)\n",
    "    else:\n",
    "        obj = fn(*args, **kwargs)\n",
    "\n",
    "        with open(cache_path, mode='wb') as file:\n",
    "            pickle.dump(obj, file)\n",
    "\n",
    "        print(\"Data saved to cache-file: \" + cache_path)\n",
    "\n",
    "    return obj"
   ]
  },
  {
   "cell_type": "code",
   "execution_count": null,
   "metadata": {
    "id": "Y8R6H3PT33Tc"
   },
   "outputs": [],
   "source": [
    "def _print_download_progress(count, block_size, total_size):\n",
    "    pct_complete = float(count * block_size) / total_size\n",
    "    pct_complete = min(1.0, pct_complete)\n",
    "    msg = \"\\r- Download progress: {0:.1%}\".format(pct_complete)\n",
    "    sys.stdout.write(msg)\n",
    "    sys.stdout.flush()"
   ]
  },
  {
   "cell_type": "code",
   "execution_count": null,
   "metadata": {
    "id": "uSPDnGtY3eW-"
   },
   "outputs": [],
   "source": [
    "def maybe_download_and_extract(url, download_dir):\n",
    "    filename = url.split('/')[-1]\n",
    "    file_path = os.path.join(download_dir, filename)\n",
    "    if not os.path.exists(file_path):\n",
    "        if not os.path.exists(download_dir):\n",
    "            os.makedirs(download_dir)\n",
    "        file_path, _ = urllib.request.urlretrieve(url=url, filename=file_path,\n",
    "                                                  reporthook=_print_download_progress)\n",
    "\n",
    "        print()\n",
    "        print(\"Download finished. Extracting files.\")\n",
    "\n",
    "        if file_path.endswith(\".zip\"):\n",
    "            zipfile.ZipFile(file=file_path, mode=\"r\").extractall(download_dir)\n",
    "        elif file_path.endswith((\".tar.gz\", \".tgz\")):\n",
    "            tarfile.open(name=file_path, mode=\"r:gz\").extractall(download_dir)\n",
    "        print(\"Done.\")\n",
    "    else:\n",
    "        print(\"Data has apparently already been downloaded and unpacked.\")"
   ]
  },
  {
   "cell_type": "code",
   "execution_count": null,
   "metadata": {
    "id": "w8Nm3r554fBV"
   },
   "outputs": [],
   "source": [
    "def maybe_download_and_extract_2():\n",
    "    filenames = [\"zips/train2014.zip\", \"zips/val2014.zip\",\n",
    "                 \"annotations/annotations_trainval2014.zip\"]\n",
    "    for filename in filenames:\n",
    "        url = data_url + filename\n",
    "        print(\"Downloading \" + url)\n",
    "        maybe_download_and_extract(url=url, download_dir=data_dir)"
   ]
  },
  {
   "cell_type": "code",
   "execution_count": null,
   "metadata": {
    "id": "hdGbT3fY4QUN"
   },
   "outputs": [],
   "source": [
    "def _load_records(train=True):\n",
    "    if train:\n",
    "        filename = \"captions_train2014.json\"\n",
    "    else:\n",
    "        filename = \"captions_val2014.json\"\n",
    "\n",
    "    path = os.path.join(data_dir, \"annotations\", filename)\n",
    "    with open(path, \"r\", encoding=\"utf-8\") as file:\n",
    "        data_raw = json.load(file)\n",
    "\n",
    "    images = data_raw['images']\n",
    "    annotations = data_raw['annotations']\n",
    "    records = dict()\n",
    "\n",
    "    for image in images:\n",
    "        image_id = image['id']\n",
    "        filename = image['coco_url']\n",
    "        record = dict()\n",
    "        record['coco_url'] = filename\n",
    "        record['captions'] = list()\n",
    "        records[image_id] = record\n",
    "\n",
    "    for ann in annotations:\n",
    "        image_id = ann['image_id']\n",
    "        caption = ann['caption']\n",
    "        record = records[image_id]\n",
    "        record['captions'].append(caption)\n",
    "\n",
    "    records_list = [(key, record['coco_url'], record['captions'])\n",
    "                    for key, record in sorted(records.items())]\n",
    "\n",
    "    ids, filenames, captions = zip(*records_list)\n",
    "    return ids, filenames, captions"
   ]
  },
  {
   "cell_type": "code",
   "execution_count": null,
   "metadata": {
    "id": "15yodOjb4R4X"
   },
   "outputs": [],
   "source": [
    "def load_records(train=True):\n",
    "    if train:\n",
    "        cache_filename = \"records_train.pkl\"\n",
    "    else:\n",
    "        cache_filename = \"records_val.pkl\"\n",
    "  \n",
    "    cache_path = os.path.join(data_dir, cache_filename)\n",
    "    records = cache(cache_path=cache_path,\n",
    "                    fn=_load_records,\n",
    "                    train=train)\n",
    "    return records"
   ]
  },
  {
   "cell_type": "code",
   "execution_count": null,
   "metadata": {
    "id": "Iv4gtdxmDLog"
   },
   "outputs": [],
   "source": [
    "maybe_download_and_extract_2()"
   ]
  },
  {
   "cell_type": "code",
   "execution_count": null,
   "metadata": {
    "colab": {
     "base_uri": "https://localhost:8080/"
    },
    "id": "4fTBfvA46TDM",
    "outputId": "b0781153-65fa-4149-9bed-0fc04562c149"
   },
   "outputs": [
    {
     "name": "stdout",
     "output_type": "stream",
     "text": [
      "Data loaded from cache-file: /content/drive/MyDrive/data/lstm_gru/records_train.pkl\n"
     ]
    },
    {
     "data": {
      "text/plain": [
       "82783"
      ]
     },
     "execution_count": 13,
     "metadata": {
      "tags": []
     },
     "output_type": "execute_result"
    }
   ],
   "source": [
    "_, filenames_train, captions_train = load_records(train=True)\n",
    "num_images_train = len(filenames_train)\n",
    "num_images_train"
   ]
  },
  {
   "cell_type": "code",
   "execution_count": null,
   "metadata": {
    "colab": {
     "base_uri": "https://localhost:8080/"
    },
    "id": "suInhXNo6WYf",
    "outputId": "48565002-1bff-472d-94d6-c51ad56e32c2"
   },
   "outputs": [
    {
     "name": "stdout",
     "output_type": "stream",
     "text": [
      "Data loaded from cache-file: /content/drive/MyDrive/data/lstm_gru/records_val.pkl\n"
     ]
    }
   ],
   "source": [
    "_, filenames_val, captions_val = load_records(train=False)"
   ]
  },
  {
   "cell_type": "markdown",
   "metadata": {
    "id": "nXi1A9ti1hkQ"
   },
   "source": [
    "### Loading and Showing Image"
   ]
  },
  {
   "cell_type": "code",
   "execution_count": null,
   "metadata": {
    "id": "VeaSyyI36YyT"
   },
   "outputs": [],
   "source": [
    "def load_image(url, size=None):\n",
    "    img = Image.open(requests.get(url, stream=True).raw)\n",
    "    \n",
    "    if not size is None:\n",
    "        img = img.resize(size=size, resample=Image.LANCZOS)\n",
    "    img = np.array(img)\n",
    "    img = img / 255.0\n",
    "    if (len(img.shape) == 2):\n",
    "        img = np.repeat(img[:, :, np.newaxis], 3, axis=2)\n",
    "    return img"
   ]
  },
  {
   "cell_type": "code",
   "execution_count": null,
   "metadata": {
    "id": "iPxjHF7c63Q8"
   },
   "outputs": [],
   "source": [
    "def show_image(idx, train):\n",
    "    if train:\n",
    "        dir = train_dir\n",
    "        filename = filenames_train[idx]\n",
    "        captions = captions_train[idx]\n",
    "    else:\n",
    "        dir = val_dir\n",
    "        filename = filenames_val[idx]\n",
    "        captions = captions_val[idx]\n",
    "\n",
    "    cap = []\n",
    "    for caption in captions:\n",
    "        cap.append(caption)\n",
    "\n",
    "    img = load_image(filename,(224,224))\n",
    "    plt.imshow(img)\n",
    "    plt.show()"
   ]
  },
  {
   "cell_type": "code",
   "execution_count": null,
   "metadata": {
    "colab": {
     "base_uri": "https://localhost:8080/"
    },
    "id": "fEgDhZLn8czY",
    "outputId": "22349767-edda-444e-b230-b91b9677a495"
   },
   "outputs": [
    {
     "data": {
      "image/png": "[encoded data removed]",
      "text/plain": [
       "<Figure size 432x288 with 1 Axes>"
      ]
     },
     "metadata": {
      "tags": []
     },
     "output_type": "display_data"
    }
   ],
   "source": [
    "show_image(idx=1, train=False)"
   ]
  },
  {
   "cell_type": "markdown",
   "metadata": {
    "id": "ka-AlESZ0UqX"
   },
   "source": [
    "### Encoder"
   ]
  },
  {
   "cell_type": "code",
   "execution_count": null,
   "metadata": {
    "colab": {
     "base_uri": "https://localhost:8080/"
    },
    "id": "rQZ7rvAI7QvY",
    "outputId": "cc2e3c9b-9110-4dca-afa8-1ef6c2865e0a"
   },
   "outputs": [
    {
     "name": "stdout",
     "output_type": "stream",
     "text": [
      "Downloading data from https://storage.googleapis.com/tensorflow/keras-applications/vgg16/vgg16_weights_tf_dim_ordering_tf_kernels.h5\n",
      "553467904/553467096 [==============================] - 5s 0us/step\n",
      "Model: \"vgg16\"\n",
      "_________________________________________________________________\n",
      "Layer (type)                 Output Shape              Param #   \n",
      "=================================================================\n",
      "input_1 (InputLayer)         [(None, 224, 224, 3)]     0         \n",
      "_________________________________________________________________\n",
      "block1_conv1 (Conv2D)        (None, 224, 224, 64)      1792      \n",
      "_________________________________________________________________\n",
      "block1_conv2 (Conv2D)        (None, 224, 224, 64)      36928     \n",
      "_________________________________________________________________\n",
      "block1_pool (MaxPooling2D)   (None, 112, 112, 64)      0         \n",
      "_________________________________________________________________\n",
      "block2_conv1 (Conv2D)        (None, 112, 112, 128)     73856     \n",
      "_________________________________________________________________\n",
      "block2_conv2 (Conv2D)        (None, 112, 112, 128)     147584    \n",
      "_________________________________________________________________\n",
      "block2_pool (MaxPooling2D)   (None, 56, 56, 128)       0         \n",
      "_________________________________________________________________\n",
      "block3_conv1 (Conv2D)        (None, 56, 56, 256)       295168    \n",
      "_________________________________________________________________\n",
      "block3_conv2 (Conv2D)        (None, 56, 56, 256)       590080    \n",
      "_________________________________________________________________\n",
      "block3_conv3 (Conv2D)        (None, 56, 56, 256)       590080    \n",
      "_________________________________________________________________\n",
      "block3_pool (MaxPooling2D)   (None, 28, 28, 256)       0         \n",
      "_________________________________________________________________\n",
      "block4_conv1 (Conv2D)        (None, 28, 28, 512)       1180160   \n",
      "_________________________________________________________________\n",
      "block4_conv2 (Conv2D)        (None, 28, 28, 512)       2359808   \n",
      "_________________________________________________________________\n",
      "block4_conv3 (Conv2D)        (None, 28, 28, 512)       2359808   \n",
      "_________________________________________________________________\n",
      "block4_pool (MaxPooling2D)   (None, 14, 14, 512)       0         \n",
      "_________________________________________________________________\n",
      "block5_conv1 (Conv2D)        (None, 14, 14, 512)       2359808   \n",
      "_________________________________________________________________\n",
      "block5_conv2 (Conv2D)        (None, 14, 14, 512)       2359808   \n",
      "_________________________________________________________________\n",
      "block5_conv3 (Conv2D)        (None, 14, 14, 512)       2359808   \n",
      "_________________________________________________________________\n",
      "block5_pool (MaxPooling2D)   (None, 7, 7, 512)         0         \n",
      "_________________________________________________________________\n",
      "flatten (Flatten)            (None, 25088)             0         \n",
      "_________________________________________________________________\n",
      "fc1 (Dense)                  (None, 4096)              102764544 \n",
      "_________________________________________________________________\n",
      "fc2 (Dense)                  (None, 4096)              16781312  \n",
      "_________________________________________________________________\n",
      "predictions (Dense)          (None, 1000)              4097000   \n",
      "=================================================================\n",
      "Total params: 138,357,544\n",
      "Trainable params: 138,357,544\n",
      "Non-trainable params: 0\n",
      "_________________________________________________________________\n"
     ]
    }
   ],
   "source": [
    "image_model = VGG16(include_top=True, weights='imagenet')\n",
    "image_model.summary()"
   ]
  },
  {
   "cell_type": "code",
   "execution_count": null,
   "metadata": {
    "colab": {
     "base_uri": "https://localhost:8080/"
    },
    "id": "pINg3vzN7mEa",
    "outputId": "43b86dd9-0b75-4fac-fb47-68ca3718a340"
   },
   "outputs": [
    {
     "name": "stdout",
     "output_type": "stream",
     "text": [
      "Image Size:  (224, 224)\n",
      "Size of transfer values:  4096\n"
     ]
    }
   ],
   "source": [
    "transfer_layer = image_model.get_layer('fc2')\n",
    "image_model_transfer = Model(inputs=image_model.input, outputs=transfer_layer.output)\n",
    "img_size = K.int_shape(image_model.input)[1:3]\n",
    "print(\"Image Size: \",img_size)\n",
    "transfer_values_size = K.int_shape(transfer_layer.output)[1]\n",
    "print(\"Size of transfer values: \",transfer_values_size)"
   ]
  },
  {
   "cell_type": "code",
   "execution_count": null,
   "metadata": {
    "id": "-XqEMzv48Enq"
   },
   "outputs": [],
   "source": [
    "def print_progress(count, max_count):\n",
    "    pct_complete = count / max_count\n",
    "    msg = \"\\r- Progress: {0:.1%}\".format(pct_complete)\n",
    "    sys.stdout.write(msg)\n",
    "    sys.stdout.flush()"
   ]
  },
  {
   "cell_type": "code",
   "execution_count": null,
   "metadata": {
    "id": "xgeEX8zT8KQW"
   },
   "outputs": [],
   "source": [
    "def process_images(data_dir, filenames, batch_size=32):\n",
    "    num_images = len(filenames)\n",
    "    shape = (batch_size,) + img_size + (3,)\n",
    "    image_batch = np.zeros(shape=shape, dtype=np.float16)\n",
    "\n",
    "    shape = (num_images, transfer_values_size)\n",
    "    transfer_values = np.zeros(shape=shape, dtype=np.float16)\n",
    "    start_index = 0\n",
    "\n",
    "    while start_index < num_images:\n",
    "        print_progress(count=start_index, max_count=num_images)\n",
    "        end_index = start_index + batch_size\n",
    "        if end_index > num_images:\n",
    "            end_index = num_images\n",
    "        current_batch_size = end_index - start_index\n",
    "\n",
    "        for i, filename in enumerate(filenames[start_index:end_index]):\n",
    "            path = os.path.join(data_dir, filename)\n",
    "            img = load_image(path, size=img_size)\n",
    "            image_batch[i] = img\n",
    "\n",
    "        transfer_values_batch = \\\n",
    "            image_model_transfer.predict(image_batch[0:current_batch_size])\n",
    "        transfer_values[start_index:end_index] = \\\n",
    "            transfer_values_batch[0:current_batch_size]\n",
    "        start_index = end_index\n",
    "\n",
    "    print()\n",
    "    return transfer_values"
   ]
  },
  {
   "cell_type": "code",
   "execution_count": null,
   "metadata": {
    "id": "4enJn63I8rOH"
   },
   "outputs": [],
   "source": [
    "def process_images_train():\n",
    "    print(\"Processing {0} images in training-set ...\".format(len(filenames_train)))\n",
    "    cache_path = os.path.join(data_dir, \"transfer_values_train.pkl\")\n",
    "    transfer_values = cache(cache_path=cache_path, fn=process_images,\n",
    "                            data_dir=train_dir, filenames=filenames_train)\n",
    "    return transfer_values"
   ]
  },
  {
   "cell_type": "code",
   "execution_count": null,
   "metadata": {
    "id": "2tFbc-f983au"
   },
   "outputs": [],
   "source": [
    "def process_images_val():\n",
    "    print(\"Processing {0} images in validation-set ...\".format(len(filenames_val)))\n",
    "    cache_path = os.path.join(data_dir, \"transfer_values_val.pkl\")\n",
    "    transfer_values = cache(cache_path=cache_path, fn=process_images,\n",
    "                            data_dir=val_dir, filenames=filenames_val)\n",
    "    return transfer_values"
   ]
  },
  {
   "cell_type": "code",
   "execution_count": null,
   "metadata": {
    "colab": {
     "base_uri": "https://localhost:8080/"
    },
    "id": "ebJQ6dA59AsO",
    "outputId": "1e8a6421-b5be-4a66-f35d-9e3ef8176605"
   },
   "outputs": [
    {
     "name": "stdout",
     "output_type": "stream",
     "text": [
      "Processing 82783 images in training-set ...\n",
      "Data loaded from cache-file: /content/drive/MyDrive/data/lstm_gru/transfer_values_train.pkl\n",
      "dtype: float16\n",
      "shape: (82783, 4096)\n",
      "CPU times: user 242 ms, sys: 1.06 s, total: 1.3 s\n",
      "Wall time: 8.6 s\n"
     ]
    }
   ],
   "source": [
    "%%time\n",
    "transfer_values_train = process_images_train()\n",
    "print(\"dtype:\", transfer_values_train.dtype)\n",
    "print(\"shape:\", transfer_values_train.shape)"
   ]
  },
  {
   "cell_type": "code",
   "execution_count": null,
   "metadata": {
    "colab": {
     "base_uri": "https://localhost:8080/"
    },
    "id": "bKJwhf8d9EG9",
    "outputId": "387d0f9f-8b06-404f-89bf-cb90a69bd577"
   },
   "outputs": [
    {
     "name": "stdout",
     "output_type": "stream",
     "text": [
      "Processing 40504 images in validation-set ...\n",
      "Data loaded from cache-file: /content/drive/MyDrive/data/lstm_gru/transfer_values_val.pkl\n",
      "dtype: float16\n",
      "shape: (40504, 4096)\n",
      "CPU times: user 107 ms, sys: 554 ms, total: 661 ms\n",
      "Wall time: 4.55 s\n"
     ]
    }
   ],
   "source": [
    "%%time\n",
    "transfer_values_val = process_images_val()\n",
    "print(\"dtype:\", transfer_values_val.dtype)\n",
    "print(\"shape:\", transfer_values_val.shape)"
   ]
  },
  {
   "cell_type": "markdown",
   "metadata": {
    "id": "5IoiN3L65eCc"
   },
   "source": [
    "### Tokenizer"
   ]
  },
  {
   "cell_type": "code",
   "execution_count": null,
   "metadata": {
    "id": "7V4_7Wak5hQl"
   },
   "outputs": [],
   "source": [
    "mark_start = 'ssss '\n",
    "mark_end = ' eeee'"
   ]
  },
  {
   "cell_type": "code",
   "execution_count": null,
   "metadata": {
    "id": "-uZNvS2y5ntB"
   },
   "outputs": [],
   "source": [
    "def mark_captions(captions_listlist):\n",
    "    captions_marked = [[mark_start + caption + mark_end\n",
    "                        for caption in captions_list]\n",
    "                        for captions_list in captions_listlist]\n",
    "    \n",
    "    return captions_marked"
   ]
  },
  {
   "cell_type": "code",
   "execution_count": null,
   "metadata": {
    "colab": {
     "base_uri": "https://localhost:8080/"
    },
    "id": "N-HZYAuz9jXj",
    "outputId": "17012673-1a27-470c-ff4a-4ed5dd0f33de"
   },
   "outputs": [
    {
     "data": {
      "text/plain": [
       "['A flower vase is sitting on a porch stand.',\n",
       " 'White vase with different colored flowers sitting inside of it. ',\n",
       " 'a white vase with many flowers on a stage',\n",
       " 'A white vase filled with different colored flowers.',\n",
       " 'A vase with red and white flowers outside on a sunny day.']"
      ]
     },
     "execution_count": 35,
     "metadata": {
      "tags": []
     },
     "output_type": "execute_result"
    }
   ],
   "source": [
    "captions_train[2]"
   ]
  },
  {
   "cell_type": "code",
   "execution_count": null,
   "metadata": {
    "id": "NdAfMJw35qxi"
   },
   "outputs": [],
   "source": [
    "captions_train_marked = mark_captions(captions_train)"
   ]
  },
  {
   "cell_type": "code",
   "execution_count": null,
   "metadata": {
    "colab": {
     "base_uri": "https://localhost:8080/"
    },
    "id": "dOjRIhvC9eFF",
    "outputId": "631f2931-4638-48d9-b216-cf8424d4d973"
   },
   "outputs": [
    {
     "data": {
      "text/plain": [
       "['ssss A flower vase is sitting on a porch stand. eeee',\n",
       " 'ssss White vase with different colored flowers sitting inside of it.  eeee',\n",
       " 'ssss a white vase with many flowers on a stage eeee',\n",
       " 'ssss A white vase filled with different colored flowers. eeee',\n",
       " 'ssss A vase with red and white flowers outside on a sunny day. eeee']"
      ]
     },
     "execution_count": 37,
     "metadata": {
      "tags": []
     },
     "output_type": "execute_result"
    }
   ],
   "source": [
    "captions_train_marked[2]"
   ]
  },
  {
   "cell_type": "code",
   "execution_count": null,
   "metadata": {
    "id": "dl4jNzFj5wOt"
   },
   "outputs": [],
   "source": [
    "def flatten(captions_listlist):\n",
    "    captions_list = [caption\n",
    "                     for captions_list in captions_listlist\n",
    "                     for caption in captions_list]\n",
    "    \n",
    "    return captions_list"
   ]
  },
  {
   "cell_type": "code",
   "execution_count": null,
   "metadata": {
    "id": "0nNqVxCN5zJr"
   },
   "outputs": [],
   "source": [
    "captions_train_flat = flatten(captions_train_marked)"
   ]
  },
  {
   "cell_type": "code",
   "execution_count": null,
   "metadata": {
    "id": "69c8J8yQ52bh"
   },
   "outputs": [],
   "source": [
    "class TokenizerWrap(Tokenizer):\n",
    "    def __init__(self, texts, num_words=None):\n",
    "        Tokenizer.__init__(self, num_words=num_words)\n",
    "        self.fit_on_texts(texts)\n",
    "        self.index_to_word = dict(zip(self.word_index.values(),\n",
    "                                      self.word_index.keys()))\n",
    "\n",
    "    def token_to_word(self, token):\n",
    "        word = \" \" if token == 0 else self.index_to_word[token]\n",
    "        return word \n",
    "\n",
    "    def tokens_to_string(self, tokens):\n",
    "        words = [self.index_to_word[token]\n",
    "                 for token in tokens\n",
    "                 if token != 0]\n",
    "        text = \" \".join(words)\n",
    "\n",
    "        return text\n",
    "    \n",
    "    def captions_to_tokens(self, captions_listlist):\n",
    "        tokens = [self.texts_to_sequences(captions_list)\n",
    "                  for captions_list in captions_listlist]\n",
    "        \n",
    "        return tokens"
   ]
  },
  {
   "cell_type": "code",
   "execution_count": null,
   "metadata": {
    "id": "p0sdZqsq6GMk"
   },
   "outputs": [],
   "source": [
    "num_words = 10000"
   ]
  },
  {
   "cell_type": "code",
   "execution_count": null,
   "metadata": {
    "colab": {
     "base_uri": "https://localhost:8080/"
    },
    "id": "MeGW34Ka6J5-",
    "outputId": "e0a138b2-2c34-4964-af78-727ed218365c"
   },
   "outputs": [
    {
     "name": "stdout",
     "output_type": "stream",
     "text": [
      "Start Token:  2\n",
      "End Token:  3\n",
      "CPU times: user 6.9 s, sys: 23.5 ms, total: 6.92 s\n",
      "Wall time: 6.98 s\n"
     ]
    }
   ],
   "source": [
    "%%time\n",
    "tokenizer = TokenizerWrap(texts=captions_train_flat,\n",
    "                          num_words=num_words)\n",
    "token_start = tokenizer.word_index[mark_start.strip()]\n",
    "token_end = tokenizer.word_index[mark_end.strip()]\n",
    "print(\"Start Token: \", token_start)\n",
    "print(\"End Token: \", token_end)"
   ]
  },
  {
   "cell_type": "code",
   "execution_count": null,
   "metadata": {
    "colab": {
     "base_uri": "https://localhost:8080/"
    },
    "id": "ojJiXshy6LRa",
    "outputId": "eaabb958-5aa9-4aea-f09d-980b3344b353"
   },
   "outputs": [
    {
     "name": "stdout",
     "output_type": "stream",
     "text": [
      "CPU times: user 6.71 s, sys: 98.3 ms, total: 6.81 s\n",
      "Wall time: 6.8 s\n"
     ]
    }
   ],
   "source": [
    "%%time\n",
    "tokens_train = tokenizer.captions_to_tokens(captions_train_marked)"
   ]
  },
  {
   "cell_type": "code",
   "execution_count": null,
   "metadata": {
    "colab": {
     "base_uri": "https://localhost:8080/",
     "height": 35
    },
    "id": "TXGtbMFD-NuT",
    "outputId": "9908ead9-3526-45ec-a04c-6a8f9e43a192"
   },
   "outputs": [
    {
     "data": {
      "application/vnd.google.colaboratory.intrinsic+json": {
       "type": "string"
      },
      "text/plain": [
       "'ssss White vase with different colored flowers sitting inside of it.  eeee'"
      ]
     },
     "execution_count": 44,
     "metadata": {
      "tags": []
     },
     "output_type": "execute_result"
    }
   ],
   "source": [
    "captions_train_marked[2][1]"
   ]
  },
  {
   "cell_type": "code",
   "execution_count": null,
   "metadata": {
    "colab": {
     "base_uri": "https://localhost:8080/"
    },
    "id": "4GyETIqD-DoQ",
    "outputId": "6858bbf0-922b-4cec-9964-0c0b3ecd647e"
   },
   "outputs": [
    {
     "data": {
      "text/plain": [
       "[2, 21, 202, 8, 191, 395, 200, 13, 159, 5, 30, 3]"
      ]
     },
     "execution_count": 45,
     "metadata": {
      "tags": []
     },
     "output_type": "execute_result"
    }
   ],
   "source": [
    "tokens_train[2][1]"
   ]
  },
  {
   "cell_type": "code",
   "execution_count": null,
   "metadata": {
    "colab": {
     "base_uri": "https://localhost:8080/"
    },
    "id": "YcYOoOVL6VYN",
    "outputId": "6938c1d1-55d7-46ab-e6a6-4cd249309aa4"
   },
   "outputs": [
    {
     "data": {
      "text/plain": [
       "{'a': 1,\n",
       " 'ssss': 2,\n",
       " 'eeee': 3,\n",
       " 'on': 4,\n",
       " 'of': 5,\n",
       " 'the': 6,\n",
       " 'in': 7,\n",
       " 'with': 8,\n",
       " 'and': 9,\n",
       " 'is': 10,\n",
       " 'man': 11,\n",
       " 'to': 12,\n",
       " 'sitting': 13,\n",
       " 'an': 14,\n",
       " 'two': 15,\n",
       " 'standing': 16,\n",
       " 'at': 17,\n",
       " 'people': 18,\n",
       " 'are': 19,\n",
       " 'next': 20,\n",
       " 'white': 21,\n",
       " 'woman': 22,\n",
       " 'table': 23,\n",
       " 'street': 24,\n",
       " 'that': 25,\n",
       " 'holding': 26,\n",
       " 'person': 27,\n",
       " 'large': 28,\n",
       " 'some': 29,\n",
       " 'it': 30,\n",
       " 'down': 31,\n",
       " 'top': 32,\n",
       " 'group': 33,\n",
       " 'up': 34,\n",
       " 'field': 35,\n",
       " 'small': 36,\n",
       " 'near': 37,\n",
       " 'tennis': 38,\n",
       " 'his': 39,\n",
       " 'front': 40,\n",
       " 'black': 41,\n",
       " 'plate': 42,\n",
       " 'room': 43,\n",
       " 'train': 44,\n",
       " 'riding': 45,\n",
       " 'dog': 46,\n",
       " 'red': 47,\n",
       " 'by': 48,\n",
       " 'young': 49,\n",
       " 'cat': 50,\n",
       " 'water': 51,\n",
       " 'baseball': 52,\n",
       " 'has': 53,\n",
       " 'while': 54,\n",
       " 'walking': 55,\n",
       " 'playing': 56,\n",
       " 'bathroom': 57,\n",
       " 'sign': 58,\n",
       " 'blue': 59,\n",
       " 'food': 60,\n",
       " 'kitchen': 61,\n",
       " 'grass': 62,\n",
       " 'bus': 63,\n",
       " 'there': 64,\n",
       " 'pizza': 65,\n",
       " 'parked': 66,\n",
       " 'green': 67,\n",
       " 'side': 68,\n",
       " 'other': 69,\n",
       " 'snow': 70,\n",
       " 'looking': 71,\n",
       " 'building': 72,\n",
       " 'bed': 73,\n",
       " 'ball': 74,\n",
       " 'beach': 75,\n",
       " 'couple': 76,\n",
       " 'three': 77,\n",
       " 'boy': 78,\n",
       " 'for': 79,\n",
       " 'men': 80,\n",
       " 'flying': 81,\n",
       " 'toilet': 82,\n",
       " 'city': 83,\n",
       " 'road': 84,\n",
       " 'skateboard': 85,\n",
       " 'out': 86,\n",
       " 'her': 87,\n",
       " 'wearing': 88,\n",
       " 'player': 89,\n",
       " 'clock': 90,\n",
       " 'game': 91,\n",
       " 'over': 92,\n",
       " 'several': 93,\n",
       " 'laying': 94,\n",
       " 'girl': 95,\n",
       " 'from': 96,\n",
       " 'sits': 97,\n",
       " 'wooden': 98,\n",
       " 'bear': 99,\n",
       " 'picture': 100,\n",
       " 'their': 101,\n",
       " 'through': 102,\n",
       " 'one': 103,\n",
       " 'bench': 104,\n",
       " 'area': 105,\n",
       " 'around': 106,\n",
       " 'laptop': 107,\n",
       " 'eating': 108,\n",
       " 'cake': 109,\n",
       " 'horse': 110,\n",
       " 'brown': 111,\n",
       " 'yellow': 112,\n",
       " 'phone': 113,\n",
       " 'board': 114,\n",
       " 'sink': 115,\n",
       " 'computer': 116,\n",
       " 'giraffe': 117,\n",
       " 'frisbee': 118,\n",
       " 'air': 119,\n",
       " 'outside': 120,\n",
       " 'living': 121,\n",
       " 'as': 122,\n",
       " 'truck': 123,\n",
       " 'window': 124,\n",
       " 'desk': 125,\n",
       " 'close': 126,\n",
       " 'trees': 127,\n",
       " 'covered': 128,\n",
       " 'car': 129,\n",
       " 'umbrella': 130,\n",
       " 'motorcycle': 131,\n",
       " 'open': 132,\n",
       " 'tree': 133,\n",
       " 'each': 134,\n",
       " 'wall': 135,\n",
       " 'park': 136,\n",
       " 'many': 137,\n",
       " 'elephant': 138,\n",
       " 'old': 139,\n",
       " 'this': 140,\n",
       " 'very': 141,\n",
       " 'behind': 142,\n",
       " 'little': 143,\n",
       " 'filled': 144,\n",
       " 'under': 145,\n",
       " 'fire': 146,\n",
       " 'stop': 147,\n",
       " 'sky': 148,\n",
       " 'into': 149,\n",
       " 'court': 150,\n",
       " 'together': 151,\n",
       " 'kite': 152,\n",
       " 'child': 153,\n",
       " 'its': 154,\n",
       " 'bat': 155,\n",
       " 'skis': 156,\n",
       " 'surfboard': 157,\n",
       " 'background': 158,\n",
       " 'inside': 159,\n",
       " 'bowl': 160,\n",
       " 'photo': 161,\n",
       " 'sheep': 162,\n",
       " 'back': 163,\n",
       " 'airplane': 164,\n",
       " 'boat': 165,\n",
       " 'stands': 166,\n",
       " 'big': 167,\n",
       " 'couch': 168,\n",
       " 'chair': 169,\n",
       " 'bunch': 170,\n",
       " 'view': 171,\n",
       " 'ocean': 172,\n",
       " 'light': 173,\n",
       " 'glass': 174,\n",
       " 'cell': 175,\n",
       " 'traffic': 176,\n",
       " 'bird': 177,\n",
       " 'hydrant': 178,\n",
       " 'shirt': 179,\n",
       " 'plane': 180,\n",
       " 'teddy': 181,\n",
       " 'mirror': 182,\n",
       " 'zebra': 183,\n",
       " 'counter': 184,\n",
       " 'fence': 185,\n",
       " 'women': 186,\n",
       " 'another': 187,\n",
       " 'sandwich': 188,\n",
       " 'hand': 189,\n",
       " 'orange': 190,\n",
       " 'different': 191,\n",
       " 'sidewalk': 192,\n",
       " 'horses': 193,\n",
       " 'wave': 194,\n",
       " 'floor': 195,\n",
       " 'giraffes': 196,\n",
       " 'lot': 197,\n",
       " 'stand': 198,\n",
       " 'tall': 199,\n",
       " 'flowers': 200,\n",
       " 'tracks': 201,\n",
       " 'vase': 202,\n",
       " 'cars': 203,\n",
       " 'parking': 204,\n",
       " 'baby': 205,\n",
       " 'racket': 206,\n",
       " 'ground': 207,\n",
       " 'being': 208,\n",
       " 'vegetables': 209,\n",
       " 'grassy': 210,\n",
       " 'off': 211,\n",
       " 'bananas': 212,\n",
       " 'elephants': 213,\n",
       " 'tie': 214,\n",
       " 'tower': 215,\n",
       " 'day': 216,\n",
       " 'zebras': 217,\n",
       " 'full': 218,\n",
       " 'middle': 219,\n",
       " 'dirt': 220,\n",
       " 'along': 221,\n",
       " 'ready': 222,\n",
       " 'hill': 223,\n",
       " 'image': 224,\n",
       " 'bike': 225,\n",
       " 'sit': 226,\n",
       " 'slope': 227,\n",
       " 'station': 228,\n",
       " 'driving': 229,\n",
       " 'signs': 230,\n",
       " 'stuffed': 231,\n",
       " 'four': 232,\n",
       " 'taking': 233,\n",
       " 'head': 234,\n",
       " 'skiing': 235,\n",
       " 'wine': 236,\n",
       " 'piece': 237,\n",
       " 'skate': 238,\n",
       " 'above': 239,\n",
       " 'across': 240,\n",
       " 'cows': 241,\n",
       " 'beside': 242,\n",
       " 'grazing': 243,\n",
       " 'long': 244,\n",
       " 'luggage': 245,\n",
       " 'snowy': 246,\n",
       " 'during': 247,\n",
       " 'broccoli': 248,\n",
       " 'wii': 249,\n",
       " 'hat': 250,\n",
       " 'double': 251,\n",
       " 'refrigerator': 252,\n",
       " 'them': 253,\n",
       " 'glasses': 254,\n",
       " 'pink': 255,\n",
       " 'doing': 256,\n",
       " 'suit': 257,\n",
       " 'display': 258,\n",
       " 'hanging': 259,\n",
       " 'holds': 260,\n",
       " 'mountain': 261,\n",
       " 'fruit': 262,\n",
       " 'herd': 263,\n",
       " 'kites': 264,\n",
       " 'ski': 265,\n",
       " 'cow': 266,\n",
       " 'hot': 267,\n",
       " 'camera': 268,\n",
       " 'buildings': 269,\n",
       " 'cutting': 270,\n",
       " 'corner': 271,\n",
       " 'going': 272,\n",
       " 'children': 273,\n",
       " 'pole': 274,\n",
       " 'empty': 275,\n",
       " 'pair': 276,\n",
       " 'talking': 277,\n",
       " 'trick': 278,\n",
       " 'jumping': 279,\n",
       " 'oven': 280,\n",
       " 'keyboard': 281,\n",
       " 'swinging': 282,\n",
       " 'watching': 283,\n",
       " 'airport': 284,\n",
       " 'chairs': 285,\n",
       " 'looks': 286,\n",
       " 'umbrellas': 287,\n",
       " 'track': 288,\n",
       " 'television': 289,\n",
       " 'stove': 290,\n",
       " 'posing': 291,\n",
       " 'smiling': 292,\n",
       " 'box': 293,\n",
       " 'boats': 294,\n",
       " 'door': 295,\n",
       " 'colorful': 296,\n",
       " 'video': 297,\n",
       " 'animals': 298,\n",
       " 'topped': 299,\n",
       " 'crowd': 300,\n",
       " 'various': 301,\n",
       " 'soccer': 302,\n",
       " 'traveling': 303,\n",
       " 'getting': 304,\n",
       " 'tv': 305,\n",
       " 'plates': 306,\n",
       " 'lady': 307,\n",
       " 'hit': 308,\n",
       " 'using': 309,\n",
       " 'surf': 310,\n",
       " 'who': 311,\n",
       " 'birds': 312,\n",
       " 'wood': 313,\n",
       " 'set': 314,\n",
       " 'body': 315,\n",
       " 'all': 316,\n",
       " 'coffee': 317,\n",
       " 'banana': 318,\n",
       " 'against': 319,\n",
       " 'dogs': 320,\n",
       " 'lots': 321,\n",
       " 'guy': 322,\n",
       " 'cheese': 323,\n",
       " 'runway': 324,\n",
       " 'motorcycles': 325,\n",
       " 'decker': 326,\n",
       " 'carrying': 327,\n",
       " 'paper': 328,\n",
       " 'players': 329,\n",
       " 'bedroom': 330,\n",
       " 'house': 331,\n",
       " 'skateboarder': 332,\n",
       " 'be': 333,\n",
       " 'river': 334,\n",
       " 'cup': 335,\n",
       " 'something': 336,\n",
       " 'night': 337,\n",
       " 'walk': 338,\n",
       " 'waiting': 339,\n",
       " \"it's\": 340,\n",
       " 'lights': 341,\n",
       " 'restaurant': 342,\n",
       " 'meat': 343,\n",
       " 'bears': 344,\n",
       " 'snowboard': 345,\n",
       " 'brick': 346,\n",
       " 'jet': 347,\n",
       " 'home': 348,\n",
       " 'high': 349,\n",
       " 'metal': 350,\n",
       " 'bicycle': 351,\n",
       " 'shower': 352,\n",
       " 'about': 353,\n",
       " 'remote': 354,\n",
       " 'ramp': 355,\n",
       " 'skier': 356,\n",
       " 'items': 357,\n",
       " 'face': 358,\n",
       " 'racquet': 359,\n",
       " 'passenger': 360,\n",
       " 'running': 361,\n",
       " 'hands': 362,\n",
       " 'someone': 363,\n",
       " 'line': 364,\n",
       " 'surfer': 365,\n",
       " 'busy': 366,\n",
       " 'like': 367,\n",
       " 'dressed': 368,\n",
       " 'male': 369,\n",
       " 'lying': 370,\n",
       " 'animal': 371,\n",
       " 'book': 372,\n",
       " 'preparing': 373,\n",
       " 'slice': 374,\n",
       " 'intersection': 375,\n",
       " 'mouth': 376,\n",
       " 'cut': 377,\n",
       " 'surfing': 378,\n",
       " 'he': 379,\n",
       " 'tray': 380,\n",
       " 'suitcase': 381,\n",
       " 'him': 382,\n",
       " 'rides': 383,\n",
       " 'pulling': 384,\n",
       " 'made': 385,\n",
       " 'bottle': 386,\n",
       " 'shown': 387,\n",
       " 'half': 388,\n",
       " 'screen': 389,\n",
       " 'scissors': 390,\n",
       " 'gray': 391,\n",
       " 'bag': 392,\n",
       " 'store': 393,\n",
       " 'number': 394,\n",
       " 'colored': 395,\n",
       " 'batter': 396,\n",
       " 'zoo': 397,\n",
       " 'enclosure': 398,\n",
       " 'dark': 399,\n",
       " 'knife': 400,\n",
       " 'way': 401,\n",
       " 'surrounded': 402,\n",
       " 'jacket': 403,\n",
       " 'look': 404,\n",
       " 'donuts': 405,\n",
       " 'carrots': 406,\n",
       " 'bridge': 407,\n",
       " 'play': 408,\n",
       " 'microwave': 409,\n",
       " 'sleeping': 410,\n",
       " 'row': 411,\n",
       " 'sand': 412,\n",
       " 'tub': 413,\n",
       " 'kids': 414,\n",
       " 'decorated': 415,\n",
       " 'showing': 416,\n",
       " 'lined': 417,\n",
       " 'between': 418,\n",
       " 'silver': 419,\n",
       " 'pile': 420,\n",
       " 'walks': 421,\n",
       " 'lake': 422,\n",
       " 'meal': 423,\n",
       " 'buses': 424,\n",
       " 'few': 425,\n",
       " 'toy': 426,\n",
       " 'forest': 427,\n",
       " 'adult': 428,\n",
       " 'cabinets': 429,\n",
       " 'older': 430,\n",
       " 'skiers': 431,\n",
       " 'purple': 432,\n",
       " 'oranges': 433,\n",
       " 'boys': 434,\n",
       " 'furniture': 435,\n",
       " 'mouse': 436,\n",
       " 'swing': 437,\n",
       " 'bread': 438,\n",
       " 'past': 439,\n",
       " 'girls': 440,\n",
       " 'seat': 441,\n",
       " 'grey': 442,\n",
       " 'cloudy': 443,\n",
       " 'photograph': 444,\n",
       " 'kid': 445,\n",
       " 'outdoor': 446,\n",
       " 'throwing': 447,\n",
       " 'chocolate': 448,\n",
       " 'attached': 449,\n",
       " 'have': 450,\n",
       " 'displayed': 451,\n",
       " 'onto': 452,\n",
       " 'waves': 453,\n",
       " 'crossing': 454,\n",
       " 'can': 455,\n",
       " 'hair': 456,\n",
       " 'coming': 457,\n",
       " 'leaning': 458,\n",
       " 'making': 459,\n",
       " 'drinking': 460,\n",
       " 'dining': 461,\n",
       " 'monitor': 462,\n",
       " 'drink': 463,\n",
       " 'fork': 464,\n",
       " 'cats': 465,\n",
       " 'scene': 466,\n",
       " 'fruits': 467,\n",
       " 'salad': 468,\n",
       " 'apples': 469,\n",
       " 'rocks': 470,\n",
       " 'lit': 471,\n",
       " 'seen': 472,\n",
       " 'shelf': 473,\n",
       " 'apple': 474,\n",
       " 'cross': 475,\n",
       " 'hitting': 476,\n",
       " 'watch': 477,\n",
       " 'lush': 478,\n",
       " 'office': 479,\n",
       " 'no': 480,\n",
       " 'female': 481,\n",
       " 'birthday': 482,\n",
       " 'meter': 483,\n",
       " 'resting': 484,\n",
       " 'painted': 485,\n",
       " 'walls': 486,\n",
       " 'stone': 487,\n",
       " 'towards': 488,\n",
       " 'market': 489,\n",
       " 'pan': 490,\n",
       " 'fries': 491,\n",
       " 'plastic': 492,\n",
       " 'rain': 493,\n",
       " 'catch': 494,\n",
       " 'leaves': 495,\n",
       " 'flower': 496,\n",
       " 'sunny': 497,\n",
       " 'bright': 498,\n",
       " 'teeth': 499,\n",
       " 'windows': 500,\n",
       " 'blanket': 501,\n",
       " 'been': 502,\n",
       " 'snowboarder': 503,\n",
       " 'setting': 504,\n",
       " 'dish': 505,\n",
       " 'tables': 506,\n",
       " 'books': 507,\n",
       " 'clean': 508,\n",
       " 'working': 509,\n",
       " 'public': 510,\n",
       " 'sun': 511,\n",
       " 'pictures': 512,\n",
       " 'uniform': 513,\n",
       " 'mountains': 514,\n",
       " 'beautiful': 515,\n",
       " 'trying': 516,\n",
       " 'police': 517,\n",
       " 'moving': 518,\n",
       " 'bikes': 519,\n",
       " 'helmet': 520,\n",
       " 'donut': 521,\n",
       " 'surfboards': 522,\n",
       " 'edge': 523,\n",
       " 'clear': 524,\n",
       " 'rail': 525,\n",
       " 'stopped': 526,\n",
       " 'rock': 527,\n",
       " 'underneath': 528,\n",
       " 'platform': 529,\n",
       " 'dress': 530,\n",
       " 'bath': 531,\n",
       " 'slices': 532,\n",
       " 'ride': 533,\n",
       " 'yard': 534,\n",
       " 'base': 535,\n",
       " 'time': 536,\n",
       " 'or': 537,\n",
       " 'having': 538,\n",
       " 'statue': 539,\n",
       " 'shot': 540,\n",
       " 'skateboarding': 541,\n",
       " 'cellphone': 542,\n",
       " 'country': 543,\n",
       " 'eat': 544,\n",
       " 'controller': 545,\n",
       " 'nice': 546,\n",
       " 'eaten': 547,\n",
       " 'pitch': 548,\n",
       " 'shows': 549,\n",
       " 'path': 550,\n",
       " 'placed': 551,\n",
       " 'branch': 552,\n",
       " 'vases': 553,\n",
       " 'motor': 554,\n",
       " 'sauce': 555,\n",
       " 'pieces': 556,\n",
       " 'computers': 557,\n",
       " 'sandy': 558,\n",
       " 'passing': 559,\n",
       " 'vehicle': 560,\n",
       " 'wet': 561,\n",
       " 'shore': 562,\n",
       " 'cart': 563,\n",
       " 'doughnut': 564,\n",
       " 'case': 565,\n",
       " 'catcher': 566,\n",
       " 'family': 567,\n",
       " 'surface': 568,\n",
       " 'boards': 569,\n",
       " 'brushing': 570,\n",
       " 'dinner': 571,\n",
       " 'town': 572,\n",
       " 'perched': 573,\n",
       " 'just': 574,\n",
       " 'basket': 575,\n",
       " 'cooking': 576,\n",
       " 'tarmac': 577,\n",
       " 'they': 578,\n",
       " 'plant': 579,\n",
       " 'reading': 580,\n",
       " 'types': 581,\n",
       " 'lamp': 582,\n",
       " 'single': 583,\n",
       " 'lap': 584,\n",
       " 'nintendo': 585,\n",
       " 'hotel': 586,\n",
       " 'pizzas': 587,\n",
       " 'modern': 588,\n",
       " 'doughnuts': 589,\n",
       " 'laptops': 590,\n",
       " 'tiled': 591,\n",
       " 'watches': 592,\n",
       " 'enjoying': 593,\n",
       " 'toppings': 594,\n",
       " 'others': 595,\n",
       " 'trains': 596,\n",
       " 'engine': 597,\n",
       " 'distance': 598,\n",
       " 'guys': 599,\n",
       " 'jump': 600,\n",
       " 'rice': 601,\n",
       " 'variety': 602,\n",
       " 'bowls': 603,\n",
       " 'trucks': 604,\n",
       " 'performing': 605,\n",
       " 'multiple': 606,\n",
       " 'mounted': 607,\n",
       " 'gathered': 608,\n",
       " 'pretty': 609,\n",
       " 'benches': 610,\n",
       " 'pitcher': 611,\n",
       " 'tricks': 612,\n",
       " 'appliances': 613,\n",
       " 'bathtub': 614,\n",
       " 'five': 615,\n",
       " 'passengers': 616,\n",
       " 'beer': 617,\n",
       " 'phones': 618,\n",
       " 'well': 619,\n",
       " 'pen': 620,\n",
       " 'woods': 621,\n",
       " 'post': 622,\n",
       " 'end': 623,\n",
       " 'cute': 624,\n",
       " 'fresh': 625,\n",
       " 'feeding': 626,\n",
       " 'shop': 627,\n",
       " 'gear': 628,\n",
       " 'candles': 629,\n",
       " 'place': 630,\n",
       " 'plants': 631,\n",
       " 'fenced': 632,\n",
       " 'pasture': 633,\n",
       " 'curb': 634,\n",
       " 'dirty': 635,\n",
       " 'left': 636,\n",
       " 'cattle': 637,\n",
       " 'poles': 638,\n",
       " 'flies': 639,\n",
       " 'railroad': 640,\n",
       " 'graffiti': 641,\n",
       " 'containing': 642,\n",
       " 'drinks': 643,\n",
       " 'right': 644,\n",
       " 'take': 645,\n",
       " 'carriage': 646,\n",
       " 'vintage': 647,\n",
       " 'brush': 648,\n",
       " 'chicken': 649,\n",
       " 'below': 650,\n",
       " 'concrete': 651,\n",
       " 'after': 652,\n",
       " 'bags': 653,\n",
       " 'center': 654,\n",
       " 'match': 655,\n",
       " 'toothbrush': 656,\n",
       " 'sandwiches': 657,\n",
       " 'bar': 658,\n",
       " 'bottles': 659,\n",
       " 'fly': 660,\n",
       " 'fireplace': 661,\n",
       " 'shoes': 662,\n",
       " 'school': 663,\n",
       " 'sofa': 664,\n",
       " 'crowded': 665,\n",
       " 'planes': 666,\n",
       " 'steel': 667,\n",
       " 'tile': 668,\n",
       " 'sliced': 669,\n",
       " 'pulled': 670,\n",
       " 'including': 671,\n",
       " 'striped': 672,\n",
       " 'neck': 673,\n",
       " 'shaped': 674,\n",
       " 'flat': 675,\n",
       " 'fridge': 676,\n",
       " 'dock': 677,\n",
       " 'pot': 678,\n",
       " 'boxes': 679,\n",
       " 'feet': 680,\n",
       " 'she': 681,\n",
       " 'nearby': 682,\n",
       " 'alone': 683,\n",
       " 'beds': 684,\n",
       " 'huge': 685,\n",
       " 'pillows': 686,\n",
       " 'trunk': 687,\n",
       " 'control': 688,\n",
       " 'takes': 689,\n",
       " 'tomatoes': 690,\n",
       " 'skateboards': 691,\n",
       " 'both': 692,\n",
       " 'equipment': 693,\n",
       " 'reaching': 694,\n",
       " 'served': 695,\n",
       " 'clothes': 696,\n",
       " 'rack': 697,\n",
       " 'bushes': 698,\n",
       " 'arm': 699,\n",
       " 'catching': 700,\n",
       " 'floating': 701,\n",
       " 'container': 702,\n",
       " 'dry': 703,\n",
       " 'style': 704,\n",
       " 'atop': 705,\n",
       " 'church': 706,\n",
       " 'sinks': 707,\n",
       " 'plays': 708,\n",
       " 'mid': 709,\n",
       " 'giant': 710,\n",
       " 'suitcases': 711,\n",
       " 'space': 712,\n",
       " 'putting': 713,\n",
       " 'towel': 714,\n",
       " 'bicycles': 715,\n",
       " 'away': 716,\n",
       " 'foods': 717,\n",
       " 'pose': 718,\n",
       " 'poses': 719,\n",
       " 'vehicles': 720,\n",
       " 'commercial': 721,\n",
       " 'airplanes': 722,\n",
       " 'cream': 723,\n",
       " 'taken': 724,\n",
       " 'work': 725,\n",
       " 'professional': 726,\n",
       " 'potatoes': 727,\n",
       " 'polar': 728,\n",
       " 'run': 729,\n",
       " 'staring': 730,\n",
       " 'dishes': 731,\n",
       " 'legs': 732,\n",
       " 'sticking': 733,\n",
       " 'serving': 734,\n",
       " 'mother': 735,\n",
       " 'lone': 736,\n",
       " 'where': 737,\n",
       " 'dessert': 738,\n",
       " 'prepares': 739,\n",
       " 'hay': 740,\n",
       " 'cabinet': 741,\n",
       " 'not': 742,\n",
       " 'wild': 743,\n",
       " 'smiles': 744,\n",
       " 'lays': 745,\n",
       " 'asian': 746,\n",
       " 'subway': 747,\n",
       " 'serve': 748,\n",
       " 'which': 749,\n",
       " 'wire': 750,\n",
       " 'shorts': 751,\n",
       " 'cement': 752,\n",
       " 'surfers': 753,\n",
       " 'breakfast': 754,\n",
       " 'trail': 755,\n",
       " 'christmas': 756,\n",
       " 'spoon': 757,\n",
       " 'show': 758,\n",
       " 'painting': 759,\n",
       " 'outdoors': 760,\n",
       " 'stacked': 761,\n",
       " 'round': 762,\n",
       " 'highway': 763,\n",
       " 'backpack': 764,\n",
       " 'couches': 765,\n",
       " 'cooked': 766,\n",
       " 'square': 767,\n",
       " 'swings': 768,\n",
       " 'toward': 769,\n",
       " 'games': 770,\n",
       " 'cluttered': 771,\n",
       " 'reflection': 772,\n",
       " 'same': 773,\n",
       " 'military': 774,\n",
       " 'pool': 775,\n",
       " 'french': 776,\n",
       " 'throw': 777,\n",
       " 'soup': 778,\n",
       " 'sunglasses': 779,\n",
       " 'drawn': 780,\n",
       " 'boarding': 781,\n",
       " 'business': 782,\n",
       " 'umpire': 783,\n",
       " 'drives': 784,\n",
       " 'seated': 785,\n",
       " 'blender': 786,\n",
       " 'docked': 787,\n",
       " 'low': 788,\n",
       " 'get': 789,\n",
       " 'assortment': 790,\n",
       " 'controllers': 791,\n",
       " 'team': 792,\n",
       " 'lawn': 793,\n",
       " 'hillside': 794,\n",
       " 'go': 795,\n",
       " 'stairs': 796,\n",
       " 'swimming': 797,\n",
       " 'adults': 798,\n",
       " 'garden': 799,\n",
       " 'van': 800,\n",
       " 'clocks': 801,\n",
       " 'bun': 802,\n",
       " 'eats': 803,\n",
       " 'rug': 804,\n",
       " 'wedding': 805,\n",
       " 'among': 806,\n",
       " 'flag': 807,\n",
       " 'shelves': 808,\n",
       " 'hotdog': 809,\n",
       " 'jumps': 810,\n",
       " 'wooded': 811,\n",
       " 'ledge': 812,\n",
       " 'onions': 813,\n",
       " 'stall': 814,\n",
       " 'rackets': 815,\n",
       " 'skies': 816,\n",
       " 'gate': 817,\n",
       " 'pillow': 818,\n",
       " 'fish': 819,\n",
       " 'foot': 820,\n",
       " 'facing': 821,\n",
       " 'desktop': 822,\n",
       " 'arms': 823,\n",
       " 'trash': 824,\n",
       " 'toddler': 825,\n",
       " 'cups': 826,\n",
       " 'rocky': 827,\n",
       " 'event': 828,\n",
       " 'fashioned': 829,\n",
       " 'restroom': 830,\n",
       " 'stainless': 831,\n",
       " 'ice': 832,\n",
       " 'things': 833,\n",
       " 'assorted': 834,\n",
       " 'eyes': 835,\n",
       " 'snowboarding': 836,\n",
       " 'clouds': 837,\n",
       " 'floors': 838,\n",
       " 'landing': 839,\n",
       " 'broken': 840,\n",
       " 'land': 841,\n",
       " 'glove': 842,\n",
       " 'before': 843,\n",
       " 'closeup': 844,\n",
       " 'eggs': 845,\n",
       " 'flock': 846,\n",
       " 'kitten': 847,\n",
       " 'party': 848,\n",
       " 'see': 849,\n",
       " 'desert': 850,\n",
       " 'skating': 851,\n",
       " 'doors': 852,\n",
       " 'steps': 853,\n",
       " 'says': 854,\n",
       " 'lunch': 855,\n",
       " 'turn': 856,\n",
       " 'coat': 857,\n",
       " 'trailer': 858,\n",
       " 'ceiling': 859,\n",
       " 'race': 860,\n",
       " 'cakes': 861,\n",
       " 'type': 862,\n",
       " 'friends': 863,\n",
       " 'construction': 864,\n",
       " 'electronic': 865,\n",
       " 'closed': 866,\n",
       " 'pointing': 867,\n",
       " 'wide': 868,\n",
       " 'arranged': 869,\n",
       " 'monitors': 870,\n",
       " 'kneeling': 871,\n",
       " 'sunset': 872,\n",
       " 'tan': 873,\n",
       " 'curtain': 874,\n",
       " 'boarder': 875,\n",
       " 'graze': 876,\n",
       " 'new': 877,\n",
       " 'tied': 878,\n",
       " 'vegetable': 879,\n",
       " 'kind': 880,\n",
       " 'machine': 881,\n",
       " 'overlooking': 882,\n",
       " 'does': 883,\n",
       " 'pastries': 884,\n",
       " 'messy': 885,\n",
       " 'towels': 886,\n",
       " 'cage': 887,\n",
       " 'pond': 888,\n",
       " 'pots': 889,\n",
       " 'bottom': 890,\n",
       " 'rider': 891,\n",
       " 'sale': 892,\n",
       " 'overhead': 893,\n",
       " 'roof': 894,\n",
       " 'bite': 895,\n",
       " 'chips': 896,\n",
       " 'pie': 897,\n",
       " 'reads': 898,\n",
       " 'himself': 899,\n",
       " 'urban': 900,\n",
       " 'picnic': 901,\n",
       " 'ear': 902,\n",
       " 'sea': 903,\n",
       " 'narrow': 904,\n",
       " 'pasta': 905,\n",
       " 'hold': 906,\n",
       " 'cloth': 907,\n",
       " 'toilets': 908,\n",
       " 'transit': 909,\n",
       " 'walkway': 910,\n",
       " 'foreground': 911,\n",
       " 'sides': 912,\n",
       " 'veggies': 913,\n",
       " 'net': 914,\n",
       " 'photos': 915,\n",
       " 'device': 916,\n",
       " 'antique': 917,\n",
       " 'pants': 918,\n",
       " 'doorway': 919,\n",
       " 'appears': 920,\n",
       " 'fighter': 921,\n",
       " 'fancy': 922,\n",
       " 'tour': 923,\n",
       " 'toys': 924,\n",
       " 'loaded': 925,\n",
       " 'wrapped': 926,\n",
       " 'colors': 927,\n",
       " 'action': 928,\n",
       " 'gold': 929,\n",
       " 'pepperoni': 930,\n",
       " 'smoke': 931,\n",
       " 'signal': 932,\n",
       " 'gets': 933,\n",
       " 'suits': 934,\n",
       " 'make': 935,\n",
       " 'short': 936,\n",
       " 'object': 937,\n",
       " 'plain': 938,\n",
       " 'clothing': 939,\n",
       " 'still': 940,\n",
       " 'was': 941,\n",
       " 'rest': 942,\n",
       " 'shade': 943,\n",
       " 'scooter': 944,\n",
       " 'held': 945,\n",
       " 'leash': 946,\n",
       " 'partially': 947,\n",
       " 'baked': 948,\n",
       " 'giving': 949,\n",
       " 'petting': 950,\n",
       " 'beneath': 951,\n",
       " 'carrot': 952,\n",
       " 'grill': 953,\n",
       " 'kinds': 954,\n",
       " 'features': 955,\n",
       " 'leather': 956,\n",
       " 'contains': 957,\n",
       " 'houses': 958,\n",
       " 'hole': 959,\n",
       " 'lies': 960,\n",
       " 'ties': 961,\n",
       " 'pastry': 962,\n",
       " 'winter': 963,\n",
       " 'blurry': 964,\n",
       " 'pedestrians': 965,\n",
       " 'structure': 966,\n",
       " 'leading': 967,\n",
       " 'peppers': 968,\n",
       " 'steam': 969,\n",
       " 'what': 970,\n",
       " 'commuter': 971,\n",
       " 'prepared': 972,\n",
       " 'bow': 973,\n",
       " 'sized': 974,\n",
       " 'vanity': 975,\n",
       " 'palm': 976,\n",
       " 'ship': 977,\n",
       " 'six': 978,\n",
       " 'decorative': 979,\n",
       " 't': 980,\n",
       " 'racing': 981,\n",
       " 'electric': 982,\n",
       " 'tomato': 983,\n",
       " 'pier': 984,\n",
       " 'used': 985,\n",
       " 'papers': 986,\n",
       " 'railing': 987,\n",
       " 'containers': 988,\n",
       " 'sail': 989,\n",
       " 'opened': 990,\n",
       " 'hard': 991,\n",
       " 'flight': 992,\n",
       " 'officer': 993,\n",
       " 'cap': 994,\n",
       " 'island': 995,\n",
       " 'streets': 996,\n",
       " 'lettuce': 997,\n",
       " 'residential': 998,\n",
       " 'deck': 999,\n",
       " 'outfit': 1000,\n",
       " ...}"
      ]
     },
     "execution_count": 46,
     "metadata": {
      "tags": []
     },
     "output_type": "execute_result"
    }
   ],
   "source": [
    "tokenizer.word_index"
   ]
  },
  {
   "cell_type": "markdown",
   "metadata": {
    "id": "tyfJIac0v0CI"
   },
   "source": [
    "### RNN Decoder"
   ]
  },
  {
   "cell_type": "code",
   "execution_count": null,
   "metadata": {
    "id": "NYFnuIQ_oMmw"
   },
   "outputs": [],
   "source": [
    "state_size = 512\n",
    "embedding_size = 128"
   ]
  },
  {
   "cell_type": "code",
   "execution_count": null,
   "metadata": {
    "id": "9Oe-DSJvoQ5H"
   },
   "outputs": [],
   "source": [
    "transfer_values_input = Input(shape=(transfer_values_size,), name='transfer_values_input')"
   ]
  },
  {
   "cell_type": "code",
   "execution_count": null,
   "metadata": {
    "id": "9KqXJid1oVui"
   },
   "outputs": [],
   "source": [
    "decoder_transfer_map = Dense(state_size, activation='tanh', name='decoder_transfer_map')"
   ]
  },
  {
   "cell_type": "code",
   "execution_count": null,
   "metadata": {
    "id": "8HFg50YgoWCL"
   },
   "outputs": [],
   "source": [
    "decoder_input = Input(shape=(None, ), name='decoder_input')"
   ]
  },
  {
   "cell_type": "code",
   "execution_count": null,
   "metadata": {
    "id": "h0NsdVRtoX2N"
   },
   "outputs": [],
   "source": [
    "decoder_embedding = Embedding(input_dim=num_words, output_dim=embedding_size, name='decoder_embedding')"
   ]
  },
  {
   "cell_type": "markdown",
   "metadata": {
    "id": "fAq5KB19DbTW"
   },
   "source": [
    "#### Existing Architecture"
   ]
  },
  {
   "cell_type": "code",
   "execution_count": null,
   "metadata": {
    "id": "rfRepA6pAExX"
   },
   "outputs": [],
   "source": [
    "decoder_gru1 = GRU(state_size, name='decoder_gru1', return_sequences=True)\n",
    "decoder_gru2 = GRU(state_size, name='decoder_gru2', return_sequences=True)\n",
    "decoder_gru3 = GRU(state_size, name='decoder_gru3', return_sequences=True)"
   ]
  },
  {
   "cell_type": "markdown",
   "metadata": {
    "id": "gdHk44xnDUNs"
   },
   "source": [
    "#### Proposed Architecture"
   ]
  },
  {
   "cell_type": "code",
   "execution_count": null,
   "metadata": {
    "id": "YXMuXuPDouLh"
   },
   "outputs": [],
   "source": [
    "decoder_gru1 = GRU(state_size, name='decoder_gru1', return_sequences=True)\n",
    "decoder_gru2 = GRU(state_size, name='decoder_gru2', return_sequences=True)\n",
    "\n",
    "decoder_lstm1 = LSTM(state_size, name='decoder_lstm1',dropout=0.2,return_sequences=True)\n",
    "decoder_lstm2 = LSTM(state_size, name='decoder_lstm2',dropout=0.2,return_sequences=True)\n",
    "\n",
    "decoder_gru3 = GRU(state_size, name='decoder_gru3', return_sequences=True)"
   ]
  },
  {
   "cell_type": "markdown",
   "metadata": {
    "id": "l9I3wKgMDYiu"
   },
   "source": [
    "#### Formulating the dense layer"
   ]
  },
  {
   "cell_type": "code",
   "execution_count": null,
   "metadata": {
    "id": "pYytnZqRwfl5"
   },
   "outputs": [],
   "source": [
    "decoder_dense = Dense(num_words, activation='softmax', name='decoder_output')"
   ]
  },
  {
   "cell_type": "markdown",
   "metadata": {
    "id": "XQdAAeYxy0br"
   },
   "source": [
    "### Training the overall model"
   ]
  },
  {
   "cell_type": "markdown",
   "metadata": {
    "id": "R2yFrYNuxvEV"
   },
   "source": [
    "#### Connecting the training model"
   ]
  },
  {
   "cell_type": "code",
   "execution_count": null,
   "metadata": {
    "id": "fwcn4Xrzw_oY"
   },
   "outputs": [],
   "source": [
    "def connect_decoder(transfer_values):\n",
    "    initial_state = decoder_transfer_map(transfer_values)\n",
    "    net = decoder_input\n",
    "    net = decoder_embedding(net)\n",
    "    net = decoder_gru1(net, initial_state=initial_state)\n",
    "    net = decoder_gru2(net, initial_state=initial_state)\n",
    "    net = decoder_gru3(net, initial_state=initial_state)\n",
    "    print(net)\n",
    "    decoder_output = decoder_dense(net)\n",
    "\n",
    "    return decoder_output"
   ]
  },
  {
   "cell_type": "code",
   "execution_count": null,
   "metadata": {
    "id": "SkRL2MDVxylQ"
   },
   "outputs": [],
   "source": [
    "def connect_decoder(transfer_values):\n",
    "    initial_state = decoder_transfer_map(transfer_values)\n",
    "    net = decoder_input\n",
    "    net = decoder_embedding(net)\n",
    "    net = decoder_gru1(net, initial_state=initial_state)\n",
    "    net = decoder_gru2(net, initial_state=initial_state)\n",
    "    net = decoder_lstm1(net, initial_state=[initial_state,initial_state])\n",
    "    net = decoder_lstm2(net, initial_state=[initial_state,initial_state])\n",
    "    net = decoder_gru3(net, initial_state=initial_state)\n",
    "    print(net)\n",
    "    decoder_output = decoder_dense(net)\n",
    "\n",
    "    return decoder_output"
   ]
  },
  {
   "cell_type": "code",
   "execution_count": null,
   "metadata": {
    "colab": {
     "base_uri": "https://localhost:8080/"
    },
    "id": "ycPBHpNtx8LE",
    "outputId": "733ab4f8-0bf3-46cc-c722-eaa9b1169907"
   },
   "outputs": [
    {
     "name": "stdout",
     "output_type": "stream",
     "text": [
      "KerasTensor(type_spec=TensorSpec(shape=(None, None, 512), dtype=tf.float32, name=None), name='decoder_gru3/PartitionedCall:1', description=\"created by layer 'decoder_gru3'\")\n"
     ]
    }
   ],
   "source": [
    "decoder_output = connect_decoder(transfer_values=transfer_values_input)\n",
    "decoder_model = Model(inputs=[transfer_values_input, decoder_input],outputs=[decoder_output])"
   ]
  },
  {
   "cell_type": "markdown",
   "metadata": {
    "id": "kCS6A9A-yJrT"
   },
   "source": [
    "#### Compiling the model"
   ]
  },
  {
   "cell_type": "code",
   "execution_count": null,
   "metadata": {
    "id": "Qpg1lunTyMTk"
   },
   "outputs": [],
   "source": [
    "decoder_model.compile(optimizer=RMSprop(lr=1e-3), loss='sparse_categorical_crossentropy')"
   ]
  },
  {
   "cell_type": "code",
   "execution_count": null,
   "metadata": {
    "id": "sAjil2J6yTza"
   },
   "outputs": [],
   "source": [
    "# path_checkpoint = '/content/drive/MyDrive/data/coco/300-epochs-disconnected.keras'\n",
    "# callback_checkpoint = ModelCheckpoint(filepath=path_checkpoint, verbose=1, save_weights_only=True)"
   ]
  },
  {
   "cell_type": "code",
   "execution_count": null,
   "metadata": {
    "id": "D9wDSrKmyNcb"
   },
   "outputs": [],
   "source": [
    "path_checkpoint = '/content/drive/MyDrive/data/lstm_gru/lstm_gru.keras'\n",
    "callback_checkpoint = ModelCheckpoint(filepath=path_checkpoint,\n",
    "                                      verbose=1,\n",
    "                                      save_weights_only=True)"
   ]
  },
  {
   "cell_type": "code",
   "execution_count": null,
   "metadata": {
    "id": "3PXue1QGyQsV"
   },
   "outputs": [],
   "source": [
    "callback_tensorboard = TensorBoard(log_dir='/content/drive/MyDrive/data/lstm_gru/lstm_gru_22_logs',\n",
    "                                   histogram_freq=0,\n",
    "                                   write_graph=False)"
   ]
  },
  {
   "cell_type": "code",
   "execution_count": null,
   "metadata": {
    "id": "FuQZicxQyS7r"
   },
   "outputs": [],
   "source": [
    "callbacks = [callback_checkpoint, callback_tensorboard]"
   ]
  },
  {
   "cell_type": "code",
   "execution_count": null,
   "metadata": {
    "id": "a__YGQ0byYrl"
   },
   "outputs": [],
   "source": [
    "# callback_tensorboard = TensorBoard(log_dir='/content/drive/MyDrive/data/coco/22_logs',\n",
    "#                                    histogram_freq=0, write_graph=False)\n",
    "# callbacks = [callback_checkpoint, callback_tensorboard]"
   ]
  },
  {
   "cell_type": "markdown",
   "metadata": {
    "id": "H3ndMDonyts2"
   },
   "source": [
    "#### Loading the checkpoint"
   ]
  },
  {
   "cell_type": "code",
   "execution_count": null,
   "metadata": {
    "colab": {
     "base_uri": "https://localhost:8080/"
    },
    "id": "95_UX8wUya2i",
    "outputId": "738259b8-a567-4461-f356-d2a211bc49f2"
   },
   "outputs": [
    {
     "name": "stdout",
     "output_type": "stream",
     "text": [
      "Checkpoint loaded successfully\n"
     ]
    }
   ],
   "source": [
    "try:\n",
    "    decoder_model.load_weights(path_checkpoint)\n",
    "    print(\"Checkpoint loaded successfully\")\n",
    "except Exception as error:\n",
    "    print(\"Error trying to load checkpoint.\")\n",
    "    print(error)"
   ]
  },
  {
   "cell_type": "markdown",
   "metadata": {
    "id": "w3TzauoEgx7a"
   },
   "source": [
    "#### Data Generator"
   ]
  },
  {
   "cell_type": "code",
   "execution_count": null,
   "metadata": {
    "id": "JnxchSt-g1rv"
   },
   "outputs": [],
   "source": [
    "def get_random_caption_tokens(idx):\n",
    "    result = []\n",
    "    for i in idx:\n",
    "        j = np.random.choice(len(tokens_train[i]))\n",
    "        tokens = tokens_train[i][j]\n",
    "        result.append(tokens)\n",
    "    return result"
   ]
  },
  {
   "cell_type": "code",
   "execution_count": null,
   "metadata": {
    "id": "8zEj-X2Kg9MV"
   },
   "outputs": [],
   "source": [
    "def batch_generator(batch_size):\n",
    "    while True:\n",
    "        idx = np.random.randint(num_images_train, size=batch_size)\n",
    "        transfer_values = transfer_values_train[idx]\n",
    "        tokens = get_random_caption_tokens(idx)\n",
    "        num_tokens = [len(t) for t in tokens]\n",
    "        max_tokens = np.max(num_tokens)\n",
    "        tokens_padded = pad_sequences(tokens, maxlen=max_tokens, padding='post', truncating='post')\n",
    "        \n",
    "        decoder_input_data = tokens_padded[:, 0:-1]\n",
    "        decoder_output_data = tokens_padded[:, 1:]\n",
    "\n",
    "        x_data = \\\n",
    "        {\n",
    "            'decoder_input': decoder_input_data,\n",
    "            'transfer_values_input': transfer_values\n",
    "        }\n",
    "\n",
    "        y_data = \\\n",
    "        {\n",
    "            'decoder_output': decoder_output_data\n",
    "        }\n",
    "        \n",
    "        yield (x_data, y_data)"
   ]
  },
  {
   "cell_type": "code",
   "execution_count": null,
   "metadata": {
    "id": "T2LZOWCrhQGI"
   },
   "outputs": [],
   "source": [
    "batch_size = 1024\n",
    "generator = batch_generator(batch_size=batch_size)"
   ]
  },
  {
   "cell_type": "code",
   "execution_count": null,
   "metadata": {
    "id": "DnRi3NuOhP-G"
   },
   "outputs": [],
   "source": [
    "batch = next(generator)\n",
    "batch_x = batch[0]\n",
    "batch_y = batch[1]"
   ]
  },
  {
   "cell_type": "markdown",
   "metadata": {
    "id": "Pzt-u2a06hrv"
   },
   "source": [
    "#### Steps per Epoch"
   ]
  },
  {
   "cell_type": "code",
   "execution_count": null,
   "metadata": {
    "id": "Y3c288bYviSN"
   },
   "outputs": [],
   "source": [
    "num_captions_train = [len(captions) for captions in captions_train]"
   ]
  },
  {
   "cell_type": "code",
   "execution_count": null,
   "metadata": {
    "id": "gjH56bzhvxe0"
   },
   "outputs": [],
   "source": [
    "total_num_captions_train = np.sum(num_captions_train)"
   ]
  },
  {
   "cell_type": "code",
   "execution_count": null,
   "metadata": {
    "colab": {
     "base_uri": "https://localhost:8080/"
    },
    "id": "uiBeoMisoJeH",
    "outputId": "52e1d6be-0e9f-4aed-beee-30e4ed13984f"
   },
   "outputs": [
    {
     "data": {
      "text/plain": [
       "404"
      ]
     },
     "execution_count": 71,
     "metadata": {
      "tags": []
     },
     "output_type": "execute_result"
    }
   ],
   "source": [
    "steps_per_epoch = int(total_num_captions_train / batch_size)\n",
    "steps_per_epoch"
   ]
  },
  {
   "cell_type": "markdown",
   "metadata": {
    "id": "yOPDZZnAzibU"
   },
   "source": [
    "#### Starting training"
   ]
  },
  {
   "cell_type": "code",
   "execution_count": null,
   "metadata": {
    "id": "MNmYme1Mzgw_"
   },
   "outputs": [],
   "source": [
    "%%time\n",
    "decoder_model.fit(x=generator,steps_per_epoch=steps_per_epoch,  \n",
    "                  epochs=1, callbacks=callbacks)"
   ]
  },
  {
   "cell_type": "markdown",
   "metadata": {
    "id": "bqnYRX510GDR"
   },
   "source": [
    "### Lexical Articulator"
   ]
  },
  {
   "cell_type": "code",
   "execution_count": null,
   "metadata": {
    "id": "m9hYf9UK0a-I"
   },
   "outputs": [],
   "source": [
    "def generate_caption(image_path, max_tokens=30):\n",
    "    image = load_image(image_path, size=img_size)\n",
    "    image_batch = np.expand_dims(image, axis=0)\n",
    "    transfer_values = image_model_transfer.predict(image_batch)\n",
    "\n",
    "    shape = (1, max_tokens)\n",
    "    decoder_input_data = np.zeros(shape=shape, dtype=np.int)\n",
    "    token_int = token_start\n",
    "    \n",
    "    output_text = ''\n",
    "    count_tokens = 0\n",
    "\n",
    "    while token_int != token_end and count_tokens < max_tokens:\n",
    "        decoder_input_data[0, count_tokens] = token_int\n",
    "\n",
    "        x_data = \\\n",
    "        {\n",
    "            'transfer_values_input': transfer_values,\n",
    "            'decoder_input': decoder_input_data\n",
    "        }\n",
    "\n",
    "        decoder_output = decoder_model.predict(x_data)\n",
    "        token_onehot = decoder_output[0, count_tokens, :]\n",
    "        token_int = np.argmax(token_onehot)\n",
    "        sampled_word = tokenizer.token_to_word(token_int)\n",
    "        output_text += \" \" + sampled_word\n",
    "        count_tokens += 1\n",
    "\n",
    "    output_tokens = decoder_input_data[0]\n",
    "    output_text = output_text.rsplit(' ',1)[0]\n",
    "    plt.imshow(image)\n",
    "    plt.show()\n",
    "\n",
    "    language = 'en'\n",
    "    articulator = gTTS(text=output_text, lang=language, slow=False) \n",
    "    articulator.save(\"articulated.wav\")\n",
    "\n",
    "    return output_text\n"
   ]
  },
  {
   "cell_type": "code",
   "execution_count": null,
   "metadata": {
    "id": "xk8-OvYs0ait"
   },
   "outputs": [],
   "source": [
    "def generate_caption_coco(idx, train=False):\n",
    "    if train:\n",
    "        data_dir = train_dir\n",
    "        filename = filenames_train[idx]\n",
    "        captions = captions_train[idx]\n",
    "    else:\n",
    "        data_dir = val_dir\n",
    "        filename = filenames_val[idx]\n",
    "        captions = captions_val[idx]\n",
    "\n",
    "    return generate_caption(image_path=filename)"
   ]
  },
  {
   "cell_type": "code",
   "execution_count": null,
   "metadata": {
    "id": "YeBzNKfI-WSK"
   },
   "outputs": [],
   "source": [
    "a = generate_caption_coco(15,1)\n",
    "print(\"Predicted Caption:\",a)\n",
    "IPython.display.Audio('articulated.wav')"
   ]
  }
 ],
 "metadata": {
  "colab": {
   "collapsed_sections": [
    "6njN10iY0LCC",
    "nXi1A9ti1hkQ",
    "R2yFrYNuxvEV",
    "kCS6A9A-yJrT",
    "H3ndMDonyts2",
    "w3TzauoEgx7a",
    "Pzt-u2a06hrv",
    "yOPDZZnAzibU"
   ],
   "name": "ML_100%_Implementation.ipynb",
   "provenance": []
  },
  "kernelspec": {
   "display_name": "Python 3",
   "language": "python",
   "name": "python3"
  },
  "language_info": {
   "codemirror_mode": {
    "name": "ipython",
    "version": 3
   },
   "file_extension": ".py",
   "mimetype": "text/x-python",
   "name": "python",
   "nbconvert_exporter": "python",
   "pygments_lexer": "ipython3",
   "version": "3.8.5"
  }
 },
 "nbformat": 4,
 "nbformat_minor": 1
}
